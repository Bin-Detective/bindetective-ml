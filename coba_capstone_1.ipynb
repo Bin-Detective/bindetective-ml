{
  "nbformat": 4,
  "nbformat_minor": 0,
  "metadata": {
    "colab": {
      "provenance": [],
      "gpuType": "T4"
    },
    "kernelspec": {
      "name": "python3",
      "display_name": "Python 3"
    },
    "language_info": {
      "name": "python"
    },
    "accelerator": "GPU"
  },
  "cells": [
    {
      "cell_type": "code",
      "execution_count": 4,
      "metadata": {
        "id": "Qe_L29HvZi3i"
      },
      "outputs": [],
      "source": [
        "import tensorflow as tf\n",
        "from tensorflow.keras.models import Sequential\n",
        "from tensorflow.keras.layers import Conv2D, MaxPooling2D, Flatten, Dense, Dropout\n",
        "from tensorflow.keras.preprocessing.image import ImageDataGenerator\n",
        "import matplotlib.pyplot as plt\n",
        "import zipfile\n",
        "import os\n",
        "import numpy as np"
      ]
    },
    {
      "cell_type": "code",
      "source": [
        "from google.colab import drive\n",
        "drive.mount('/content/drive')"
      ],
      "metadata": {
        "colab": {
          "base_uri": "https://localhost:8080/"
        },
        "id": "2xndWnanSdat",
        "outputId": "efe81b01-7d5b-4627-e8b9-61209f3e18cf"
      },
      "execution_count": 5,
      "outputs": [
        {
          "output_type": "stream",
          "name": "stdout",
          "text": [
            "Drive already mounted at /content/drive; to attempt to forcibly remount, call drive.mount(\"/content/drive\", force_remount=True).\n"
          ]
        }
      ]
    },
    {
      "cell_type": "code",
      "source": [
        "# Tentukan path dataset\n",
        "dataset_path = '/content/drive/MyDrive/archive.zip'\n",
        "\n",
        "# Verifikasi file\n",
        "!ls $dataset_path"
      ],
      "metadata": {
        "colab": {
          "base_uri": "https://localhost:8080/"
        },
        "id": "AZi34b1tVTsk",
        "outputId": "0107c787-b851-4869-c26a-cf297c600117"
      },
      "execution_count": 6,
      "outputs": [
        {
          "output_type": "stream",
          "name": "stdout",
          "text": [
            "/content/drive/MyDrive/archive.zip\n"
          ]
        }
      ]
    },
    {
      "cell_type": "code",
      "source": [
        "zip_file = r\"/content/drive/MyDrive/archive - Copy.zip\"\n",
        "# Ekstrak file ZIP\n",
        "with zipfile.ZipFile(dataset_path, 'r') as zip_ref:\n",
        "    zip_ref.extractall('/content/dataset')\n",
        "\n",
        "# Verifikasi isi folder hasil ekstraksi\n",
        "!ls /content/dataset\n",
        "!ls /content/dataset/DATASET\n"
      ],
      "metadata": {
        "colab": {
          "base_uri": "https://localhost:8080/"
        },
        "id": "dhOh3EhaiiNX",
        "outputId": "857765e3-4f31-4700-8f30-64713c0163e6"
      },
      "execution_count": 7,
      "outputs": [
        {
          "output_type": "stream",
          "name": "stdout",
          "text": [
            "DATASET\n",
            "TEST  TRAIN  VAL\n"
          ]
        }
      ]
    },
    {
      "cell_type": "code",
      "source": [
        "test_dir = '/content/dataset/DATASET/TEST'\n",
        "train_dir = '/content/dataset/DATASET/TRAIN'\n",
        "val_dir = '/content/dataset/DATASET/VAL'\n"
      ],
      "metadata": {
        "id": "eCj1CvoGmGn5"
      },
      "execution_count": 8,
      "outputs": []
    },
    {
      "cell_type": "code",
      "source": [
        "# Buat dataset\n",
        "train_dataset = tf.keras.utils.image_dataset_from_directory(\n",
        "    train_dir,\n",
        "    image_size=(128, 128),\n",
        "    batch_size=32\n",
        ")\n",
        "\n",
        "val_dataset = tf.keras.utils.image_dataset_from_directory(\n",
        "    val_dir,\n",
        "    image_size=(128, 128),\n",
        "    batch_size=32\n",
        ")\n",
        "\n",
        "test_dataset = tf.keras.utils.image_dataset_from_directory(\n",
        "    test_dir,\n",
        "    image_size=(128, 128),\n",
        "    batch_size=32\n",
        ")\n",
        "\n"
      ],
      "metadata": {
        "id": "05rnFkYecN5V",
        "colab": {
          "base_uri": "https://localhost:8080/"
        },
        "outputId": "b66cbdc0-8799-4012-bf34-0fdf170955e5"
      },
      "execution_count": 18,
      "outputs": [
        {
          "output_type": "stream",
          "name": "stdout",
          "text": [
            "Found 16011 files belonging to 3 classes.\n",
            "Found 3993 files belonging to 3 classes.\n",
            "Found 3062 files belonging to 3 classes.\n"
          ]
        }
      ]
    },
    {
      "cell_type": "code",
      "source": [
        "# Ambil nama kelas untuk setiap dataset\n",
        "train_class_names = train_dataset.class_names\n",
        "val_class_names = val_dataset.class_names\n",
        "test_class_names = test_dataset.class_names\n",
        "\n",
        "print(\"Kelas pada dataset TRAIN:\", train_class_names)\n",
        "print(\"Kelas pada dataset VAL:\", val_class_names)\n",
        "print(\"Kelas pada dataset TEST:\", test_class_names)\n"
      ],
      "metadata": {
        "colab": {
          "base_uri": "https://localhost:8080/"
        },
        "id": "fYhkfK2ydQVl",
        "outputId": "aadaf7f8-b4c9-4945-f1ec-9bbb1d7dbe82"
      },
      "execution_count": 10,
      "outputs": [
        {
          "output_type": "stream",
          "name": "stdout",
          "text": [
            "Kelas pada dataset TRAIN: ['anorganik', 'b3', 'organik']\n",
            "Kelas pada dataset VAL: ['anorganik', 'b3', 'organik']\n",
            "Kelas pada dataset TEST: ['anorganik', 'b3', 'organik']\n"
          ]
        }
      ]
    },
    {
      "cell_type": "code",
      "source": [
        "# Prefetch dataset untuk efisiensi\n",
        "AUTOTUNE = tf.data.AUTOTUNE\n",
        "train_dataset = train_dataset.prefetch(buffer_size=AUTOTUNE)\n",
        "val_dataset = val_dataset.prefetch(buffer_size=AUTOTUNE)\n",
        "test_dataset = test_dataset.prefetch(buffer_size=AUTOTUNE)"
      ],
      "metadata": {
        "id": "YpRGRSlpdsAA"
      },
      "execution_count": 11,
      "outputs": []
    },
    {
      "cell_type": "code",
      "source": [
        "data_augmentation = Sequential([\n",
        "    tf.keras.layers.Rescaling(1./255),\n",
        "    tf.keras.layers.RandomFlip(\"horizontal_and_vertical\"),\n",
        "    tf.keras.layers.RandomRotation(0.2),\n",
        "])"
      ],
      "metadata": {
        "id": "23wmAq7BftI-"
      },
      "execution_count": 12,
      "outputs": []
    },
    {
      "cell_type": "code",
      "source": [
        "# augmentasi\n",
        "train_dataset = train_dataset.map(\n",
        "    lambda x, y: (data_augmentation(x, training=True), y)\n",
        ")\n"
      ],
      "metadata": {
        "id": "4ZG2Olaci6M1"
      },
      "execution_count": 13,
      "outputs": []
    },
    {
      "cell_type": "code",
      "source": [
        "# Model CNN\n",
        "model = Sequential([\n",
        "    tf.keras.layers.Rescaling(1./255, input_shape=(128, 128, 3)),\n",
        "    Conv2D(32, (3, 3), activation='relu', padding='same'),\n",
        "    MaxPooling2D(2, 2),\n",
        "    Conv2D(64, (3, 3), activation='relu', padding='same'),\n",
        "    MaxPooling2D(2, 2),\n",
        "    Conv2D(128, (3, 3), activation='relu', padding='same'),\n",
        "    MaxPooling2D(2, 2),\n",
        "    Flatten(),\n",
        "    Dense(256, activation='relu'),\n",
        "    Dropout(0.5),\n",
        "    Dense(len(train_class_names), activation='softmax')\n",
        "])\n",
        "\n",
        "# Kompilasi model\n",
        "model.compile(\n",
        "    optimizer=tf.keras.optimizers.Adam(learning_rate=0.0001),\n",
        "    loss='sparse_categorical_crossentropy',\n",
        "    metrics=['accuracy']\n",
        ")\n",
        "\n",
        "# Latih model dan simpan hasilnya dalam history\n",
        "history = model.fit(\n",
        "    train_dataset,\n",
        "    validation_data=val_dataset,\n",
        "    epochs=10\n",
        ")"
      ],
      "metadata": {
        "colab": {
          "base_uri": "https://localhost:8080/"
        },
        "id": "oadv66bAYHRk",
        "outputId": "526d8eb1-08cb-4fb4-fe71-eaaff7de72cb"
      },
      "execution_count": 20,
      "outputs": [
        {
          "output_type": "stream",
          "name": "stdout",
          "text": [
            "Epoch 1/10\n",
            "\u001b[1m501/501\u001b[0m \u001b[32m━━━━━━━━━━━━━━━━━━━━\u001b[0m\u001b[37m\u001b[0m \u001b[1m27s\u001b[0m 42ms/step - accuracy: 0.6560 - loss: 0.7818 - val_accuracy: 0.7493 - val_loss: 0.5900\n",
            "Epoch 2/10\n",
            "\u001b[1m501/501\u001b[0m \u001b[32m━━━━━━━━━━━━━━━━━━━━\u001b[0m\u001b[37m\u001b[0m \u001b[1m15s\u001b[0m 29ms/step - accuracy: 0.7533 - loss: 0.6156 - val_accuracy: 0.7944 - val_loss: 0.5313\n",
            "Epoch 3/10\n",
            "\u001b[1m501/501\u001b[0m \u001b[32m━━━━━━━━━━━━━━━━━━━━\u001b[0m\u001b[37m\u001b[0m \u001b[1m20s\u001b[0m 29ms/step - accuracy: 0.7812 - loss: 0.5602 - val_accuracy: 0.7914 - val_loss: 0.5251\n",
            "Epoch 4/10\n",
            "\u001b[1m501/501\u001b[0m \u001b[32m━━━━━━━━━━━━━━━━━━━━\u001b[0m\u001b[37m\u001b[0m \u001b[1m14s\u001b[0m 28ms/step - accuracy: 0.7983 - loss: 0.5162 - val_accuracy: 0.8012 - val_loss: 0.4999\n",
            "Epoch 5/10\n",
            "\u001b[1m501/501\u001b[0m \u001b[32m━━━━━━━━━━━━━━━━━━━━\u001b[0m\u001b[37m\u001b[0m \u001b[1m17s\u001b[0m 33ms/step - accuracy: 0.8106 - loss: 0.4824 - val_accuracy: 0.8197 - val_loss: 0.4668\n",
            "Epoch 6/10\n",
            "\u001b[1m501/501\u001b[0m \u001b[32m━━━━━━━━━━━━━━━━━━━━\u001b[0m\u001b[37m\u001b[0m \u001b[1m19s\u001b[0m 30ms/step - accuracy: 0.8274 - loss: 0.4494 - val_accuracy: 0.8307 - val_loss: 0.4430\n",
            "Epoch 7/10\n",
            "\u001b[1m501/501\u001b[0m \u001b[32m━━━━━━━━━━━━━━━━━━━━\u001b[0m\u001b[37m\u001b[0m \u001b[1m15s\u001b[0m 30ms/step - accuracy: 0.8354 - loss: 0.4305 - val_accuracy: 0.8272 - val_loss: 0.4495\n",
            "Epoch 8/10\n",
            "\u001b[1m501/501\u001b[0m \u001b[32m━━━━━━━━━━━━━━━━━━━━\u001b[0m\u001b[37m\u001b[0m \u001b[1m15s\u001b[0m 30ms/step - accuracy: 0.8445 - loss: 0.4073 - val_accuracy: 0.8465 - val_loss: 0.4089\n",
            "Epoch 9/10\n",
            "\u001b[1m501/501\u001b[0m \u001b[32m━━━━━━━━━━━━━━━━━━━━\u001b[0m\u001b[37m\u001b[0m \u001b[1m20s\u001b[0m 28ms/step - accuracy: 0.8504 - loss: 0.3878 - val_accuracy: 0.8385 - val_loss: 0.4209\n",
            "Epoch 10/10\n",
            "\u001b[1m501/501\u001b[0m \u001b[32m━━━━━━━━━━━━━━━━━━━━\u001b[0m\u001b[37m\u001b[0m \u001b[1m21s\u001b[0m 29ms/step - accuracy: 0.8585 - loss: 0.3677 - val_accuracy: 0.8385 - val_loss: 0.4255\n"
          ]
        }
      ]
    },
    {
      "cell_type": "code",
      "source": [
        "# Evaluasi model pada dataset validasi\n",
        "val_loss, val_accuracy = model.evaluate(val_dataset)\n",
        "print(f\"Akurasi pada dataset validasi: {val_accuracy:.2f}\")\n"
      ],
      "metadata": {
        "id": "CxTOR2HEelHR",
        "colab": {
          "base_uri": "https://localhost:8080/"
        },
        "outputId": "e7806891-7b94-439a-9312-45e885444fd3"
      },
      "execution_count": 24,
      "outputs": [
        {
          "output_type": "stream",
          "name": "stdout",
          "text": [
            "\u001b[1m125/125\u001b[0m \u001b[32m━━━━━━━━━━━━━━━━━━━━\u001b[0m\u001b[37m\u001b[0m \u001b[1m3s\u001b[0m 23ms/step - accuracy: 0.8377 - loss: 0.4255\n",
            "Akurasi pada dataset validasi: 0.84\n"
          ]
        }
      ]
    }
  ]
}